{
  "nbformat": 4,
  "nbformat_minor": 0,
  "metadata": {
    "colab": {
      "provenance": [],
      "include_colab_link": true
    },
    "kernelspec": {
      "name": "python3",
      "display_name": "Python 3"
    },
    "language_info": {
      "name": "python"
    }
  },
  "cells": [
    {
      "cell_type": "markdown",
      "metadata": {
        "id": "view-in-github",
        "colab_type": "text"
      },
      "source": [
        "<a href=\"https://colab.research.google.com/github/Goge052215/C17-Tutorial/blob/main/Lab6_P2_George_Edmund.ipynb\" target=\"_parent\"><img src=\"https://colab.research.google.com/assets/colab-badge.svg\" alt=\"Open In Colab\"/></a>"
      ]
    },
    {
      "cell_type": "markdown",
      "source": [
        "#Logistic Regression - Census\n",
        "\n",
        "In this challenge exercise, you will be working with census data and apply K Nearest Neighbor and Logistic Regression. This census dataset contains both people from the US and abroad (http://archive.ics.uci.edu/dataset/2/adult).\n",
        "\n",
        "\n",
        "The goal is to find a way to predict who will make more than $50K per year and who will not. What features to do feel should be relevant? (Hint: If the non-numerical data is too hard to work with, consier throwing it out) Is that what you observe? Compare and contrast using K nearest Neighbor and Logistic Regression classifiers. Which model is a better predictor? Which features are important? What conclusions can you draw?\n"
      ],
      "metadata": {
        "id": "RQI4E0iCaW3u"
      }
    },
    {
      "cell_type": "markdown",
      "source": [
        "### Import the libraries"
      ],
      "metadata": {
        "id": "YpxMrW-3mcPu"
      }
    },
    {
      "cell_type": "code",
      "source": [
        "import pandas as pd\n",
        "import numpy as np\n",
        "import matplotlib.pyplot as plt\n",
        "!pip install ucimlrepo\n",
        "%matplotlib inline\n",
        "\n",
        "from sklearn.decomposition import PCA\n",
        "from sklearn.preprocessing import StandardScaler\n",
        "from sklearn.model_selection import train_test_split\n",
        "from sklearn.neighbors import KNeighborsClassifier\n",
        "from sklearn.linear_model import LogisticRegression"
      ],
      "metadata": {
        "id": "wYarm00vMa7V",
        "colab": {
          "base_uri": "https://localhost:8080/"
        },
        "collapsed": true,
        "outputId": "b8fdba65-ec68-4ae8-9513-0f43737e1f52"
      },
      "execution_count": null,
      "outputs": [
        {
          "output_type": "stream",
          "name": "stdout",
          "text": [
            "Requirement already satisfied: ucimlrepo in /usr/local/lib/python3.10/dist-packages (0.0.7)\n",
            "Requirement already satisfied: pandas>=1.0.0 in /usr/local/lib/python3.10/dist-packages (from ucimlrepo) (2.1.4)\n",
            "Requirement already satisfied: certifi>=2020.12.5 in /usr/local/lib/python3.10/dist-packages (from ucimlrepo) (2024.7.4)\n",
            "Requirement already satisfied: numpy<2,>=1.22.4 in /usr/local/lib/python3.10/dist-packages (from pandas>=1.0.0->ucimlrepo) (1.26.4)\n",
            "Requirement already satisfied: python-dateutil>=2.8.2 in /usr/local/lib/python3.10/dist-packages (from pandas>=1.0.0->ucimlrepo) (2.8.2)\n",
            "Requirement already satisfied: pytz>=2020.1 in /usr/local/lib/python3.10/dist-packages (from pandas>=1.0.0->ucimlrepo) (2024.1)\n",
            "Requirement already satisfied: tzdata>=2022.1 in /usr/local/lib/python3.10/dist-packages (from pandas>=1.0.0->ucimlrepo) (2024.1)\n",
            "Requirement already satisfied: six>=1.5 in /usr/local/lib/python3.10/dist-packages (from python-dateutil>=2.8.2->pandas>=1.0.0->ucimlrepo) (1.16.0)\n"
          ]
        }
      ]
    },
    {
      "cell_type": "markdown",
      "source": [
        "### Import the census data set\n",
        "The dataset we will be using is from the 1994 census database."
      ],
      "metadata": {
        "id": "XneR19hzmE7o"
      }
    },
    {
      "cell_type": "code",
      "source": [
        "from ucimlrepo import fetch_ucirepo\n",
        "\n",
        "# fetch dataset\n",
        "adult = fetch_ucirepo(id=2)\n",
        "\n",
        "# data (as pandas dataframes)\n",
        "X = adult.data.features\n",
        "y = adult.data.targets\n",
        "\n",
        "# metadata\n",
        "print(adult.metadata)\n",
        "\n",
        "# variable information\n",
        "print(adult.variables)\n",
        "\n",
        "print(X.shape)\n",
        "print(y.shape)"
      ],
      "metadata": {
        "id": "mA9wIBFM4DgO",
        "colab": {
          "base_uri": "https://localhost:8080/"
        },
        "collapsed": true,
        "outputId": "ec16bdb5-d8d6-4d86-a00c-244b5cf1a1cf"
      },
      "execution_count": null,
      "outputs": [
        {
          "output_type": "stream",
          "name": "stdout",
          "text": [
            "{'uci_id': 2, 'name': 'Adult', 'repository_url': 'https://archive.ics.uci.edu/dataset/2/adult', 'data_url': 'https://archive.ics.uci.edu/static/public/2/data.csv', 'abstract': 'Predict whether income exceeds $50K/yr based on census data. Also known as \"Census Income\" dataset. ', 'area': 'Social Science', 'tasks': ['Classification'], 'characteristics': ['Multivariate'], 'num_instances': 48842, 'num_features': 14, 'feature_types': ['Categorical', 'Integer'], 'demographics': ['Age', 'Income', 'Education Level', 'Other', 'Race', 'Sex'], 'target_col': ['income'], 'index_col': None, 'has_missing_values': 'yes', 'missing_values_symbol': 'NaN', 'year_of_dataset_creation': 1996, 'last_updated': 'Mon Aug 07 2023', 'dataset_doi': '10.24432/C5XW20', 'creators': ['Barry Becker', 'Ronny Kohavi'], 'intro_paper': None, 'additional_info': {'summary': 'Extraction was done by Barry Becker from the 1994 Census database.  A set of reasonably clean records was extracted using the following conditions: ((AAGE>16) && (AGI>100) && (AFNLWGT>1)&& (HRSWK>0))\\r\\n\\r\\nPrediction task is to determine whether a person makes over 50K a year.\\r\\n', 'purpose': None, 'funded_by': None, 'instances_represent': None, 'recommended_data_splits': None, 'sensitive_data': None, 'preprocessing_description': None, 'variable_info': 'Listing of attributes:\\r\\n\\r\\n>50K, <=50K.\\r\\n\\r\\nage: continuous.\\r\\nworkclass: Private, Self-emp-not-inc, Self-emp-inc, Federal-gov, Local-gov, State-gov, Without-pay, Never-worked.\\r\\nfnlwgt: continuous.\\r\\neducation: Bachelors, Some-college, 11th, HS-grad, Prof-school, Assoc-acdm, Assoc-voc, 9th, 7th-8th, 12th, Masters, 1st-4th, 10th, Doctorate, 5th-6th, Preschool.\\r\\neducation-num: continuous.\\r\\nmarital-status: Married-civ-spouse, Divorced, Never-married, Separated, Widowed, Married-spouse-absent, Married-AF-spouse.\\r\\noccupation: Tech-support, Craft-repair, Other-service, Sales, Exec-managerial, Prof-specialty, Handlers-cleaners, Machine-op-inspct, Adm-clerical, Farming-fishing, Transport-moving, Priv-house-serv, Protective-serv, Armed-Forces.\\r\\nrelationship: Wife, Own-child, Husband, Not-in-family, Other-relative, Unmarried.\\r\\nrace: White, Asian-Pac-Islander, Amer-Indian-Eskimo, Other, Black.\\r\\nsex: Female, Male.\\r\\ncapital-gain: continuous.\\r\\ncapital-loss: continuous.\\r\\nhours-per-week: continuous.\\r\\nnative-country: United-States, Cambodia, England, Puerto-Rico, Canada, Germany, Outlying-US(Guam-USVI-etc), India, Japan, Greece, South, China, Cuba, Iran, Honduras, Philippines, Italy, Poland, Jamaica, Vietnam, Mexico, Portugal, Ireland, France, Dominican-Republic, Laos, Ecuador, Taiwan, Haiti, Columbia, Hungary, Guatemala, Nicaragua, Scotland, Thailand, Yugoslavia, El-Salvador, Trinadad&Tobago, Peru, Hong, Holand-Netherlands.', 'citation': None}}\n",
            "              name     role         type      demographic  \\\n",
            "0              age  Feature      Integer              Age   \n",
            "1        workclass  Feature  Categorical           Income   \n",
            "2           fnlwgt  Feature      Integer             None   \n",
            "3        education  Feature  Categorical  Education Level   \n",
            "4    education-num  Feature      Integer  Education Level   \n",
            "5   marital-status  Feature  Categorical            Other   \n",
            "6       occupation  Feature  Categorical            Other   \n",
            "7     relationship  Feature  Categorical            Other   \n",
            "8             race  Feature  Categorical             Race   \n",
            "9              sex  Feature       Binary              Sex   \n",
            "10    capital-gain  Feature      Integer             None   \n",
            "11    capital-loss  Feature      Integer             None   \n",
            "12  hours-per-week  Feature      Integer             None   \n",
            "13  native-country  Feature  Categorical            Other   \n",
            "14          income   Target       Binary           Income   \n",
            "\n",
            "                                          description units missing_values  \n",
            "0                                                 N/A  None             no  \n",
            "1   Private, Self-emp-not-inc, Self-emp-inc, Feder...  None            yes  \n",
            "2                                                None  None             no  \n",
            "3    Bachelors, Some-college, 11th, HS-grad, Prof-...  None             no  \n",
            "4                                                None  None             no  \n",
            "5   Married-civ-spouse, Divorced, Never-married, S...  None             no  \n",
            "6   Tech-support, Craft-repair, Other-service, Sal...  None            yes  \n",
            "7   Wife, Own-child, Husband, Not-in-family, Other...  None             no  \n",
            "8   White, Asian-Pac-Islander, Amer-Indian-Eskimo,...  None             no  \n",
            "9                                       Female, Male.  None             no  \n",
            "10                                               None  None             no  \n",
            "11                                               None  None             no  \n",
            "12                                               None  None             no  \n",
            "13  United-States, Cambodia, England, Puerto-Rico,...  None            yes  \n",
            "14                                       >50K, <=50K.  None             no  \n",
            "(48842, 14)\n",
            "(48842, 1)\n"
          ]
        }
      ]
    },
    {
      "cell_type": "code",
      "source": [
        "print(X)\n",
        "print(y)"
      ],
      "metadata": {
        "id": "-PRMThQV4Wi6",
        "colab": {
          "base_uri": "https://localhost:8080/"
        },
        "collapsed": true,
        "outputId": "ccafa1c9-020c-42d0-bfcd-730f8aa34ea2"
      },
      "execution_count": null,
      "outputs": [
        {
          "output_type": "stream",
          "name": "stdout",
          "text": [
            "       age         workclass  fnlwgt  education  education-num  \\\n",
            "0       39         State-gov   77516  Bachelors             13   \n",
            "1       50  Self-emp-not-inc   83311  Bachelors             13   \n",
            "2       38           Private  215646    HS-grad              9   \n",
            "3       53           Private  234721       11th              7   \n",
            "4       28           Private  338409  Bachelors             13   \n",
            "...    ...               ...     ...        ...            ...   \n",
            "48837   39           Private  215419  Bachelors             13   \n",
            "48838   64               NaN  321403    HS-grad              9   \n",
            "48839   38           Private  374983  Bachelors             13   \n",
            "48840   44           Private   83891  Bachelors             13   \n",
            "48841   35      Self-emp-inc  182148  Bachelors             13   \n",
            "\n",
            "           marital-status         occupation    relationship  \\\n",
            "0           Never-married       Adm-clerical   Not-in-family   \n",
            "1      Married-civ-spouse    Exec-managerial         Husband   \n",
            "2                Divorced  Handlers-cleaners   Not-in-family   \n",
            "3      Married-civ-spouse  Handlers-cleaners         Husband   \n",
            "4      Married-civ-spouse     Prof-specialty            Wife   \n",
            "...                   ...                ...             ...   \n",
            "48837            Divorced     Prof-specialty   Not-in-family   \n",
            "48838             Widowed                NaN  Other-relative   \n",
            "48839  Married-civ-spouse     Prof-specialty         Husband   \n",
            "48840            Divorced       Adm-clerical       Own-child   \n",
            "48841  Married-civ-spouse    Exec-managerial         Husband   \n",
            "\n",
            "                     race     sex  capital-gain  capital-loss  hours-per-week  \\\n",
            "0                   White    Male          2174             0              40   \n",
            "1                   White    Male             0             0              13   \n",
            "2                   White    Male             0             0              40   \n",
            "3                   Black    Male             0             0              40   \n",
            "4                   Black  Female             0             0              40   \n",
            "...                   ...     ...           ...           ...             ...   \n",
            "48837               White  Female             0             0              36   \n",
            "48838               Black    Male             0             0              40   \n",
            "48839               White    Male             0             0              50   \n",
            "48840  Asian-Pac-Islander    Male          5455             0              40   \n",
            "48841               White    Male             0             0              60   \n",
            "\n",
            "      native-country  \n",
            "0      United-States  \n",
            "1      United-States  \n",
            "2      United-States  \n",
            "3      United-States  \n",
            "4               Cuba  \n",
            "...              ...  \n",
            "48837  United-States  \n",
            "48838  United-States  \n",
            "48839  United-States  \n",
            "48840  United-States  \n",
            "48841  United-States  \n",
            "\n",
            "[48842 rows x 14 columns]\n",
            "       income\n",
            "0       <=50K\n",
            "1       <=50K\n",
            "2       <=50K\n",
            "3       <=50K\n",
            "4       <=50K\n",
            "...       ...\n",
            "48837  <=50K.\n",
            "48838  <=50K.\n",
            "48839  <=50K.\n",
            "48840  <=50K.\n",
            "48841   >50K.\n",
            "\n",
            "[48842 rows x 1 columns]\n"
          ]
        }
      ]
    },
    {
      "cell_type": "code",
      "source": [
        "# This converts y to binary labels\n",
        "y = np.where(np.logical_or(y == '>50K', y == '>50K.'), 1, 0)  # Assuming '>50K' is the positive class; NOTE: some are written as 50K some are 50K.\n",
        "y = np.reshape(y, (len(y), ))"
      ],
      "metadata": {
        "id": "0NO4pvCu4drq"
      },
      "execution_count": null,
      "outputs": []
    },
    {
      "cell_type": "code",
      "source": [
        "print(y)\n",
        "print(X.shape)\n",
        "print(y.shape)"
      ],
      "metadata": {
        "id": "r_x_sAlt42TY",
        "colab": {
          "base_uri": "https://localhost:8080/"
        },
        "collapsed": true,
        "outputId": "362d5e88-9a39-4c16-df50-475e8e6b659f"
      },
      "execution_count": null,
      "outputs": [
        {
          "output_type": "stream",
          "name": "stdout",
          "text": [
            "[0 0 0 ... 0 0 1]\n",
            "(48842, 14)\n",
            "(48842,)\n"
          ]
        }
      ]
    },
    {
      "cell_type": "code",
      "source": [
        "x_age = np.reshape(X.age, (len(X.age), ))\n",
        "print(x_age)\n",
        "print(x_age.shape)"
      ],
      "metadata": {
        "id": "p2Lb6L8XNv7j",
        "colab": {
          "base_uri": "https://localhost:8080/"
        },
        "collapsed": true,
        "outputId": "c15fdde3-f1de-4864-aa0c-d106da2550fe"
      },
      "execution_count": null,
      "outputs": [
        {
          "output_type": "stream",
          "name": "stdout",
          "text": [
            "[39 50 38 ... 38 44 35]\n",
            "(48842,)\n"
          ]
        }
      ]
    },
    {
      "cell_type": "code",
      "source": [
        "# transform all categorical data into numerical data\n",
        "x_workclass = np.reshape(X.workclass, (len(X.workclass), ))\n",
        "for i, element in enumerate(x_workclass):\n",
        "  if element == 'Private':\n",
        "    x_workclass[i] = 1\n",
        "  elif element == 'Self-emp-not-inc':\n",
        "    x_workclass[i] = 2\n",
        "  elif element == 'Self-emp-inc':\n",
        "    x_workclass[i] = 3\n",
        "  elif element == 'Federal-gov':\n",
        "    x_workclass[i] = 4\n",
        "  elif element == 'Local-gov':\n",
        "    x_workclass[i] = 5\n",
        "  elif element == 'State-gov':\n",
        "    x_workclass[i] = 6\n",
        "  elif element == 'Without-pay':\n",
        "    x_workclass[i] = 7\n",
        "  elif element == 'Never-worked':\n",
        "    x_workclass[i] = 8\n",
        "  else:\n",
        "    x_workclass[i] = 0\n",
        "print(x_workclass)\n",
        "print(x_workclass.shape)\n"
      ],
      "metadata": {
        "id": "Fezy-eFhOIML",
        "colab": {
          "base_uri": "https://localhost:8080/"
        },
        "outputId": "e0cae8af-853c-48a3-b460-018690167b4e"
      },
      "execution_count": null,
      "outputs": [
        {
          "output_type": "stream",
          "name": "stdout",
          "text": [
            "[6 2 1 ... 1 1 3]\n",
            "(48842,)\n"
          ]
        }
      ]
    },
    {
      "cell_type": "code",
      "source": [
        "x_fnlwgt = np.reshape(X.fnlwgt, (len(X.fnlwgt), ))\n",
        "print(x_fnlwgt)\n",
        "print(x_fnlwgt.shape)"
      ],
      "metadata": {
        "id": "5iVkRo38PhbN",
        "colab": {
          "base_uri": "https://localhost:8080/"
        },
        "outputId": "5f9f699f-559b-40f3-a723-a1d75af87a87"
      },
      "execution_count": null,
      "outputs": [
        {
          "output_type": "stream",
          "name": "stdout",
          "text": [
            "[ 77516  83311 215646 ... 374983  83891 182148]\n",
            "(48842,)\n"
          ]
        }
      ]
    },
    {
      "cell_type": "code",
      "source": [
        "# drop \"education\" column. already categorized to number in education-num\n",
        "X = X.drop(columns='education')"
      ],
      "metadata": {
        "id": "N-wtQPOYjIOI"
      },
      "execution_count": null,
      "outputs": []
    },
    {
      "cell_type": "code",
      "source": [
        "# transfrom marital status data into numerical data\n",
        "\n",
        "x_marital_status = np.reshape(X['marital-status'], (len(X['marital-status']), ))\n",
        "for i, element in enumerate(x_marital_status):\n",
        "  if element == 'Married-civ-spouse':\n",
        "    x_marital_status[i] = 1\n",
        "  elif element == 'Divorced':\n",
        "    x_marital_status[i] = 2\n",
        "  elif element == 'Never-married':\n",
        "    x_marital_status[i] = 3\n",
        "  elif element == 'Separated':\n",
        "    x_marital_status[i] = 4\n",
        "  elif element == 'Widowed':\n",
        "    x_marital_status[i] = 5\n",
        "  elif element == 'Married-spouse-absent':\n",
        "    x_marital_status[i] = 6\n",
        "  elif element == 'Married-AF-spouse':\n",
        "    x_marital_status[i] = 7\n",
        "  else:\n",
        "    x_marital_status[i] = 0\n",
        "\n",
        "print(x_marital_status)\n",
        "print(x_marital_status.shape)"
      ],
      "metadata": {
        "id": "1TMRU2ikkWdh",
        "colab": {
          "base_uri": "https://localhost:8080/"
        },
        "outputId": "a7b9e8d4-6dae-40c6-f460-768516cd9dd0"
      },
      "execution_count": null,
      "outputs": [
        {
          "output_type": "stream",
          "name": "stdout",
          "text": [
            "[3 1 2 ... 1 2 1]\n",
            "(48842,)\n"
          ]
        }
      ]
    },
    {
      "cell_type": "code",
      "source": [
        "# transform occupation data into numerical data\n",
        "\n",
        "x_occupation = np.reshape(X['occupation'], (len(X['occupation']), ))\n",
        "for i, element in enumerate(x_occupation):\n",
        "  if element == 'Tech-support':\n",
        "    x_occupation[i] = 1\n",
        "  elif element == 'Craft-repair':\n",
        "    x_occupation[i] = 2\n",
        "  elif element == 'Other-service':\n",
        "    x_occupation[i] = 3\n",
        "  elif element == 'Sales':\n",
        "    x_occupation[i] = 4\n",
        "  elif element == 'Exec-managerial':\n",
        "    x_occupation[i] = 5\n",
        "  elif element == 'Prof-specialty':\n",
        "    x_occupation[i] = 6\n",
        "  elif element == 'Handlers-cleaners':\n",
        "    x_occupation[i] = 7\n",
        "  elif element == 'Machine-op-inspct':\n",
        "    x_occupation[i] = 8\n",
        "  elif element == 'Adm-clerical':\n",
        "    x_occupation[i] = 9\n",
        "  elif element == 'Farming-fishing':\n",
        "    x_occupation[i] = 10\n",
        "  elif element == 'Transport-moving':\n",
        "    x_occupation[i] = 11\n",
        "  elif element == 'Priv-house-serv':\n",
        "    x_occupation[i] = 12\n",
        "  elif element == 'Protective-serv':\n",
        "    x_occupation[i] = 13\n",
        "  elif element == 'Armed-Forces':\n",
        "    x_occupation[i] = 14\n",
        "  else:\n",
        "    x_occupation[i] = 0\n",
        "print(x_occupation)\n",
        "print(x_occupation.shape)"
      ],
      "metadata": {
        "id": "Qc1o0lRTlajI",
        "colab": {
          "base_uri": "https://localhost:8080/"
        },
        "outputId": "1d52ca46-2d8b-4a28-c8c7-431f2deb0567"
      },
      "execution_count": null,
      "outputs": [
        {
          "output_type": "stream",
          "name": "stdout",
          "text": [
            "[9 5 7 ... 6 9 5]\n",
            "(48842,)\n"
          ]
        }
      ]
    },
    {
      "cell_type": "code",
      "source": [
        "# transform relationship data into numerical data\n",
        "\n",
        "x_relationship = np.reshape(X['relationship'], (len(X['relationship']), ))\n",
        "for i, element in enumerate(x_relationship):\n",
        "  if element == 'Wife':\n",
        "    x_relationship[i] = 1\n",
        "  elif element == 'Own-child':\n",
        "    x_relationship[i] = 2\n",
        "  elif element == 'Husband':\n",
        "    x_relationship[i] = 3\n",
        "  elif element == 'Not-in-family':\n",
        "    x_relationship[i] = 4\n",
        "  elif element == 'Other-relative':\n",
        "    x_relationship[i] = 5\n",
        "  elif element == 'Unmarried':\n",
        "    x_relationship[i] = 6\n",
        "  else:\n",
        "    x_relationship[i] = 0\n",
        "print(x_relationship)\n",
        "print(x_relationship.shape)"
      ],
      "metadata": {
        "id": "P7-k-PJrq8kh",
        "colab": {
          "base_uri": "https://localhost:8080/"
        },
        "outputId": "9a4c82b5-aca5-42c1-f0e0-5d0bcba66341"
      },
      "execution_count": null,
      "outputs": [
        {
          "output_type": "stream",
          "name": "stdout",
          "text": [
            "[4 3 4 ... 3 2 3]\n",
            "(48842,)\n"
          ]
        }
      ]
    },
    {
      "cell_type": "code",
      "source": [
        "# transform race data into numerical data\n",
        "\n",
        "x_race = np.reshape(X['race'], (len(X['race']), ))\n",
        "for i, element in enumerate(x_race):\n",
        "  if element == 'White':\n",
        "    x_race[i] = 1\n",
        "  elif element == 'Asian-Pac-Islander':\n",
        "    x_race[i] = 2\n",
        "  elif element == 'Amer-Indian-Eskimo':\n",
        "    x_race[i] = 3\n",
        "  elif element == 'Other':\n",
        "    x_race[i] = 4\n",
        "  elif element == 'Black':\n",
        "    x_race[i] = 5\n",
        "  else:\n",
        "    x_race[i] = 0\n",
        "print(x_race)\n",
        "print(x_race.shape)"
      ],
      "metadata": {
        "id": "krg5F4y0r9Qp",
        "colab": {
          "base_uri": "https://localhost:8080/"
        },
        "outputId": "dfe61c49-4b5c-4c46-c27e-46e2295d66df"
      },
      "execution_count": null,
      "outputs": [
        {
          "output_type": "stream",
          "name": "stdout",
          "text": [
            "[1 1 1 ... 1 2 1]\n",
            "(48842,)\n"
          ]
        }
      ]
    },
    {
      "cell_type": "code",
      "source": [
        "# transform sex data into numerical data\n",
        "\n",
        "x_sex = np.reshape(X['sex'], (len(X['sex']), ))\n",
        "for i, element in enumerate(x_sex):\n",
        "  if element == 'Male':\n",
        "    x_sex[i] = 1\n",
        "  elif element == 'Female':\n",
        "    x_sex[i] = 2\n",
        "  else:\n",
        "    x_sex[i] = 0\n",
        "print(x_sex)\n",
        "print(x_sex.shape)"
      ],
      "metadata": {
        "id": "88YpUQ23tAh9",
        "colab": {
          "base_uri": "https://localhost:8080/"
        },
        "outputId": "5a3d5170-7461-4cba-f5b9-837d1a7cf841"
      },
      "execution_count": null,
      "outputs": [
        {
          "output_type": "stream",
          "name": "stdout",
          "text": [
            "[1 1 1 ... 1 1 1]\n",
            "(48842,)\n"
          ]
        }
      ]
    },
    {
      "cell_type": "code",
      "source": [
        "# transform native-country data into numerical data\n",
        "\n",
        "x_native_country = np.reshape(X['native-country'], (len(X['native-country']), ))\n",
        "for i, element in enumerate(x_native_country):\n",
        "  if element == 'United-States':\n",
        "    x_native_country[i] = 1\n",
        "  elif element == 'Cambodia':\n",
        "    x_native_country[i] = 2\n",
        "  elif element == 'England':\n",
        "    x_native_country[i] = 3\n",
        "  elif element == 'Puerto-Rico':\n",
        "    x_native_country[i] = 4\n",
        "  elif element == 'Canada':\n",
        "    x_native_country[i] = 5\n",
        "  elif element == 'Germany':\n",
        "    x_native_country[i] = 6\n",
        "  elif element == 'Outlying-US(Guam-USVI-etc)':\n",
        "    x_native_country[i] = 7\n",
        "  elif element == 'India':\n",
        "    x_native_country[i] = 8\n",
        "  elif element == 'Japan':\n",
        "    x_native_country[i] = 9\n",
        "  elif element == 'Greece':\n",
        "    x_native_country[i] = 10\n",
        "  elif element == 'South':\n",
        "    x_native_country[i] = 11\n",
        "  elif element == 'China':\n",
        "    x_native_country[i] = 12\n",
        "  elif element == 'Cuba':\n",
        "    x_native_country[i] = 13\n",
        "  elif element == 'Iran':\n",
        "    x_native_country[i] = 14\n",
        "  elif element == 'Honduras':\n",
        "    x_native_country[i] = 15\n",
        "  elif element == 'Philippines':\n",
        "    x_native_country[i] = 16\n",
        "  elif element == 'Italy':\n",
        "    x_native_country[i] = 17\n",
        "  elif element == 'Poland':\n",
        "    x_native_country[i] = 18\n",
        "  elif element == 'Jamaica':\n",
        "    x_native_country[i] = 19\n",
        "  elif element == 'Vietnam':\n",
        "    x_native_country[i] = 20\n",
        "  elif element == 'Mexico':\n",
        "    x_native_country[i] = 21\n",
        "  elif element == 'Portugal':\n",
        "    x_native_country[i] = 22\n",
        "  elif element == 'Ireland':\n",
        "    x_native_country[i] = 23\n",
        "  elif element == 'France':\n",
        "    x_native_country[i] = 24\n",
        "  elif element == 'Dominican-Republic':\n",
        "    x_native_country[i] = 25\n",
        "  elif element == 'Laos':\n",
        "    x_native_country[i] = 26\n",
        "  elif element == 'Ecuador':\n",
        "    x_native_country[i] = 27\n",
        "  elif element == 'Taiwan':\n",
        "    x_native_country[i] = 28\n",
        "  elif element == 'Haiti':\n",
        "    x_native_country[i] = 29\n",
        "  elif element == 'Columbia':\n",
        "    x_native_country[i] = 30\n",
        "  elif element == 'Hungary':\n",
        "    x_native_country[i] = 31\n",
        "  elif element == 'Guatemala':\n",
        "    x_native_country[i] = 32\n",
        "  elif element == 'Nicaragua':\n",
        "    x_native_country[i] = 33\n",
        "  elif element == 'Scotland':\n",
        "    x_native_country[i] = 34\n",
        "  elif element == 'Thailand':\n",
        "    x_native_country[i] = 35\n",
        "  elif element == 'Yugoslavia':\n",
        "    x_native_country[i] = 36\n",
        "  elif element == 'El-Salvador':\n",
        "    x_native_country[i] = 37\n",
        "  elif element == 'Trinadad&Tobago':\n",
        "    x_native_country[i] = 38\n",
        "  elif element == 'Peru':\n",
        "    x_native_country[i] = 39\n",
        "  elif element == 'Hong':\n",
        "    x_native_country[i] = 40\n",
        "  elif element == 'Holand-Netherlands':\n",
        "    x_native_country[i] = 41\n",
        "  else:\n",
        "    x_native_country[i] = 0\n",
        "print(x_native_country)\n",
        "print(x_native_country.shape)"
      ],
      "metadata": {
        "id": "xfM-rgZQtQUP",
        "colab": {
          "base_uri": "https://localhost:8080/"
        },
        "outputId": "5e794095-0d0d-420c-ad13-33c1f3e8503b"
      },
      "execution_count": null,
      "outputs": [
        {
          "output_type": "stream",
          "name": "stdout",
          "text": [
            "[1 1 1 ... 1 1 1]\n",
            "(48842,)\n"
          ]
        }
      ]
    },
    {
      "cell_type": "code",
      "source": [
        "# Cleaned data\n",
        "\n",
        "# Extract the different components of the dataset\n",
        "feature_names = list(X.columns)\n",
        "target_names = ['<=50K', '>50K']\n",
        "X = X.to_numpy()\n",
        "y = y\n",
        "\n",
        "# Print the shapes of the extracted components\n",
        "print(\"X shape:\", X.shape)\n",
        "print(\"Y shape:\", y.shape)\n",
        "\n",
        "# Print the names of the features\n",
        "print(\"Feature names:\", feature_names)\n",
        "\n",
        "# Print the names of the target classes\n",
        "print(\"Target names:\", target_names)\n",
        "\n",
        "# Print features and target values\n",
        "print(X)\n",
        "print(y)"
      ],
      "metadata": {
        "id": "bRlPYrH4r4al",
        "colab": {
          "base_uri": "https://localhost:8080/"
        },
        "outputId": "3da7198e-16e2-4ae0-d454-23a111d170e2"
      },
      "execution_count": null,
      "outputs": [
        {
          "output_type": "stream",
          "name": "stdout",
          "text": [
            "X shape: (48842, 13)\n",
            "Y shape: (48842,)\n",
            "Feature names: ['age', 'workclass', 'fnlwgt', 'education-num', 'marital-status', 'occupation', 'relationship', 'race', 'sex', 'capital-gain', 'capital-loss', 'hours-per-week', 'native-country']\n",
            "Target names: ['<=50K', '>50K']\n",
            "[[39 6 77516 ... 0 40 1]\n",
            " [50 2 83311 ... 0 13 1]\n",
            " [38 1 215646 ... 0 40 1]\n",
            " ...\n",
            " [38 1 374983 ... 0 50 1]\n",
            " [44 1 83891 ... 0 40 1]\n",
            " [35 3 182148 ... 0 60 1]]\n",
            "[0 0 0 ... 0 0 1]\n"
          ]
        }
      ]
    },
    {
      "cell_type": "markdown",
      "source": [
        "###Your exploration\n",
        "This is where you will start your work ... Start by looking at what the features are in X and deciding which ones you want"
      ],
      "metadata": {
        "id": "GzFY7WtPsj0X"
      }
    },
    {
      "cell_type": "code",
      "source": [
        "df = pd.DataFrame(data=adult.data, columns=feature_names)\n",
        "\n",
        "df['target'] = adult.data.target\n",
        "df['target_name'] = df['target'].map(dict(enumerate(target_names)))"
      ],
      "metadata": {
        "id": "wQ-V-e1XZxrf"
      },
      "execution_count": null,
      "outputs": []
    },
    {
      "cell_type": "code",
      "source": [
        "df.head()"
      ],
      "metadata": {
        "colab": {
          "base_uri": "https://localhost:8080/",
          "height": 67
        },
        "id": "AVqbNFdpeuKq",
        "outputId": "4b4ed224-0f17-42ca-ac17-4048d5684fa4"
      },
      "execution_count": null,
      "outputs": [
        {
          "output_type": "execute_result",
          "data": {
            "text/plain": [
              "Empty DataFrame\n",
              "Columns: [age, workclass, fnlwgt, education-num, marital-status, occupation, relationship, race, sex, capital-gain, capital-loss, hours-per-week, native-country, target, target_name]\n",
              "Index: []"
            ],
            "text/html": [
              "\n",
              "  <div id=\"df-635e0231-b086-4668-a014-ffb3da8773ac\" class=\"colab-df-container\">\n",
              "    <div>\n",
              "<style scoped>\n",
              "    .dataframe tbody tr th:only-of-type {\n",
              "        vertical-align: middle;\n",
              "    }\n",
              "\n",
              "    .dataframe tbody tr th {\n",
              "        vertical-align: top;\n",
              "    }\n",
              "\n",
              "    .dataframe thead th {\n",
              "        text-align: right;\n",
              "    }\n",
              "</style>\n",
              "<table border=\"1\" class=\"dataframe\">\n",
              "  <thead>\n",
              "    <tr style=\"text-align: right;\">\n",
              "      <th></th>\n",
              "      <th>age</th>\n",
              "      <th>workclass</th>\n",
              "      <th>fnlwgt</th>\n",
              "      <th>education-num</th>\n",
              "      <th>marital-status</th>\n",
              "      <th>occupation</th>\n",
              "      <th>relationship</th>\n",
              "      <th>race</th>\n",
              "      <th>sex</th>\n",
              "      <th>capital-gain</th>\n",
              "      <th>capital-loss</th>\n",
              "      <th>hours-per-week</th>\n",
              "      <th>native-country</th>\n",
              "      <th>target</th>\n",
              "      <th>target_name</th>\n",
              "    </tr>\n",
              "  </thead>\n",
              "  <tbody>\n",
              "  </tbody>\n",
              "</table>\n",
              "</div>\n",
              "    <div class=\"colab-df-buttons\">\n",
              "\n",
              "  <div class=\"colab-df-container\">\n",
              "    <button class=\"colab-df-convert\" onclick=\"convertToInteractive('df-635e0231-b086-4668-a014-ffb3da8773ac')\"\n",
              "            title=\"Convert this dataframe to an interactive table.\"\n",
              "            style=\"display:none;\">\n",
              "\n",
              "  <svg xmlns=\"http://www.w3.org/2000/svg\" height=\"24px\" viewBox=\"0 -960 960 960\">\n",
              "    <path d=\"M120-120v-720h720v720H120Zm60-500h600v-160H180v160Zm220 220h160v-160H400v160Zm0 220h160v-160H400v160ZM180-400h160v-160H180v160Zm440 0h160v-160H620v160ZM180-180h160v-160H180v160Zm440 0h160v-160H620v160Z\"/>\n",
              "  </svg>\n",
              "    </button>\n",
              "\n",
              "  <style>\n",
              "    .colab-df-container {\n",
              "      display:flex;\n",
              "      gap: 12px;\n",
              "    }\n",
              "\n",
              "    .colab-df-convert {\n",
              "      background-color: #E8F0FE;\n",
              "      border: none;\n",
              "      border-radius: 50%;\n",
              "      cursor: pointer;\n",
              "      display: none;\n",
              "      fill: #1967D2;\n",
              "      height: 32px;\n",
              "      padding: 0 0 0 0;\n",
              "      width: 32px;\n",
              "    }\n",
              "\n",
              "    .colab-df-convert:hover {\n",
              "      background-color: #E2EBFA;\n",
              "      box-shadow: 0px 1px 2px rgba(60, 64, 67, 0.3), 0px 1px 3px 1px rgba(60, 64, 67, 0.15);\n",
              "      fill: #174EA6;\n",
              "    }\n",
              "\n",
              "    .colab-df-buttons div {\n",
              "      margin-bottom: 4px;\n",
              "    }\n",
              "\n",
              "    [theme=dark] .colab-df-convert {\n",
              "      background-color: #3B4455;\n",
              "      fill: #D2E3FC;\n",
              "    }\n",
              "\n",
              "    [theme=dark] .colab-df-convert:hover {\n",
              "      background-color: #434B5C;\n",
              "      box-shadow: 0px 1px 3px 1px rgba(0, 0, 0, 0.15);\n",
              "      filter: drop-shadow(0px 1px 2px rgba(0, 0, 0, 0.3));\n",
              "      fill: #FFFFFF;\n",
              "    }\n",
              "  </style>\n",
              "\n",
              "    <script>\n",
              "      const buttonEl =\n",
              "        document.querySelector('#df-635e0231-b086-4668-a014-ffb3da8773ac button.colab-df-convert');\n",
              "      buttonEl.style.display =\n",
              "        google.colab.kernel.accessAllowed ? 'block' : 'none';\n",
              "\n",
              "      async function convertToInteractive(key) {\n",
              "        const element = document.querySelector('#df-635e0231-b086-4668-a014-ffb3da8773ac');\n",
              "        const dataTable =\n",
              "          await google.colab.kernel.invokeFunction('convertToInteractive',\n",
              "                                                    [key], {});\n",
              "        if (!dataTable) return;\n",
              "\n",
              "        const docLinkHtml = 'Like what you see? Visit the ' +\n",
              "          '<a target=\"_blank\" href=https://colab.research.google.com/notebooks/data_table.ipynb>data table notebook</a>'\n",
              "          + ' to learn more about interactive tables.';\n",
              "        element.innerHTML = '';\n",
              "        dataTable['output_type'] = 'display_data';\n",
              "        await google.colab.output.renderOutput(dataTable, element);\n",
              "        const docLink = document.createElement('div');\n",
              "        docLink.innerHTML = docLinkHtml;\n",
              "        element.appendChild(docLink);\n",
              "      }\n",
              "    </script>\n",
              "  </div>\n",
              "\n",
              "\n",
              "    </div>\n",
              "  </div>\n"
            ],
            "application/vnd.google.colaboratory.intrinsic+json": {
              "type": "dataframe",
              "variable_name": "df",
              "repr_error": "Out of range float values are not JSON compliant: nan"
            }
          },
          "metadata": {},
          "execution_count": 32
        }
      ]
    }
  ]
}